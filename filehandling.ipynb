{
  "nbformat": 4,
  "nbformat_minor": 0,
  "metadata": {
    "colab": {
      "provenance": []
    },
    "kernelspec": {
      "name": "python3",
      "display_name": "Python 3"
    },
    "language_info": {
      "name": "python"
    }
  },
  "cells": [
    {
      "cell_type": "code",
      "execution_count": 5,
      "metadata": {
        "id": "nywArv5aT_fU",
        "colab": {
          "base_uri": "https://localhost:8080/"
        },
        "outputId": "088605d5-d424-4703-f156-5b89d6965813"
      },
      "outputs": [
        {
          "output_type": "stream",
          "name": "stdout",
          "text": [
            "Enter the filename: Ex1.txt\n",
            "hiiiii\n",
            "hellooooo\n",
            "how are youuuu\n",
            "\n"
          ]
        }
      ],
      "source": [
        "filename = input(\"Enter the filename: \")\n",
        "\n",
        "try:\n",
        "    with open(filename, 'r') as file:\n",
        "        content = file.read()\n",
        "        print(content)\n",
        "except FileNotFoundError:\n",
        "    print(\"The file does not exist.\")\n"
      ]
    },
    {
      "cell_type": "code",
      "source": [
        "source_file = input(\"Enter the source filename: \")\n",
        "destination_file = input(\"Enter the destination filename: \")\n",
        "\n",
        "try:\n",
        "   with open(source_file, 'r') as src:\n",
        "        content = src.read()\n",
        "   with open(destination_file, 'w') as dest:\n",
        "        dest.write(content)\n",
        "\n",
        "   print(\"File copied successfully!\")\n",
        "\n",
        "except FileNotFoundError:\n",
        "    print(\"Source file does not exist.\")\n",
        "except Exception as e:\n",
        "    print(f\"An error occurred: {e}\")\n"
      ],
      "metadata": {
        "colab": {
          "base_uri": "https://localhost:8080/"
        },
        "id": "8b4xZoOBVWjK",
        "outputId": "1d3d9346-d09f-4990-bbb3-002c089ba8e9"
      },
      "execution_count": 7,
      "outputs": [
        {
          "output_type": "stream",
          "name": "stdout",
          "text": [
            "Enter the source filename: Ex1.txt\n",
            "Enter the destination filename: Ex2.txt\n",
            "File copied successfully!\n"
          ]
        }
      ]
    },
    {
      "cell_type": "code",
      "source": [
        "filename = input(\"Enter the filename: \")\n",
        "\n",
        "try:\n",
        "    with open(filename, 'r') as file:\n",
        "        content = file.read()\n",
        "        words = content.split()\n",
        "        print(f\"Total number of words: {len(words)}\")\n",
        "except FileNotFoundError:\n",
        "    print(\"The file does not exist.\")\n"
      ],
      "metadata": {
        "colab": {
          "base_uri": "https://localhost:8080/"
        },
        "id": "UspMh8OgWNJy",
        "outputId": "3798e6f2-6ea8-41fa-98db-1592b045b0d7"
      },
      "execution_count": 8,
      "outputs": [
        {
          "output_type": "stream",
          "name": "stdout",
          "text": [
            "Enter the filename: Ex1.txt\n",
            "Total number of words: 5\n"
          ]
        }
      ]
    },
    {
      "cell_type": "code",
      "source": [
        "user_input = input(\"Enter a number: \")\n",
        "\n",
        "try:\n",
        "    number = int(user_input)\n",
        "    print(f\"The integer is: {number}\")\n",
        "except ValueError:\n",
        "    print(\"That's not a valid integer.\")\n"
      ],
      "metadata": {
        "colab": {
          "base_uri": "https://localhost:8080/"
        },
        "id": "z8V79vZwWxav",
        "outputId": "d1794c00-bf9e-4d04-f77e-00d149c91b1d"
      },
      "execution_count": 10,
      "outputs": [
        {
          "output_type": "stream",
          "name": "stdout",
          "text": [
            "Enter a number: 5\n",
            "The integer is: 5\n"
          ]
        }
      ]
    },
    {
      "cell_type": "code",
      "source": [
        "try:\n",
        "    numbers = list(map(int, input(\"Enter a list of integers separated by space: \").split()))\n",
        "\n",
        "    for num in numbers:\n",
        "        if num < 0:\n",
        "            raise ValueError(\"Negative number detected!\")\n",
        "\n",
        "    print(\"All numbers are non-negative.\")\n",
        "except ValueError as e:\n",
        "    print(e)\n"
      ],
      "metadata": {
        "colab": {
          "base_uri": "https://localhost:8080/"
        },
        "id": "_iT3oCanW_BW",
        "outputId": "3f257ba9-ebcb-4daa-dd0c-9b587b001695"
      },
      "execution_count": 12,
      "outputs": [
        {
          "output_type": "stream",
          "name": "stdout",
          "text": [
            "Enter a list of integers separated by space: 5 -1 4\n",
            "Negative number detected!\n"
          ]
        }
      ]
    },
    {
      "cell_type": "code",
      "source": [
        "try:\n",
        "    numbers = list(map(int, input(\"Enter a list of integers separated by space: \").split()))\n",
        "\n",
        "    if not numbers:\n",
        "        raise ValueError(\"List cannot be empty!\")\n",
        "\n",
        "    average = sum(numbers) / len(numbers)\n",
        "    print(f\"The average of the numbers is: {average}\")\n",
        "except ValueError as e:\n",
        "    print(f\"Error: {e}\")\n",
        "finally:\n",
        "    print(\"Program execution is completed.\")\n"
      ],
      "metadata": {
        "colab": {
          "base_uri": "https://localhost:8080/"
        },
        "id": "1rXeFLmVX62A",
        "outputId": "881e890f-7014-4de7-cead-29efd114b577"
      },
      "execution_count": 14,
      "outputs": [
        {
          "output_type": "stream",
          "name": "stdout",
          "text": [
            "Enter a list of integers separated by space: -3 4 5\n",
            "The average of the numbers is: 2.0\n",
            "Program execution is completed.\n"
          ]
        }
      ]
    },
    {
      "cell_type": "code",
      "source": [
        "filename = input(\"Enter the filename to write to: \")\n",
        "text_to_write = input(\"Enter the text to write to the file: \")\n",
        "\n",
        "try:\n",
        "    with open(filename, 'w') as file:\n",
        "        file.write(text_to_write)\n",
        "    print(\"Text written to the file successfully. Welcome!\")\n",
        "except Exception as e:\n",
        "    print(f\"An error occurred: {e}\")\n"
      ],
      "metadata": {
        "colab": {
          "base_uri": "https://localhost:8080/"
        },
        "id": "Ub4arZSRYHwG",
        "outputId": "b5b07e5b-e502-4422-d35e-7b7f9a8a080e"
      },
      "execution_count": 15,
      "outputs": [
        {
          "output_type": "stream",
          "name": "stdout",
          "text": [
            "Enter the filename to write to: Ex1.txt\n",
            "Enter the text to write to the file: Ex2,txt\n",
            "Text written to the file successfully. Welcome!\n"
          ]
        }
      ]
    },
    {
      "cell_type": "code",
      "source": [],
      "metadata": {
        "id": "mzj87vGvYUFU"
      },
      "execution_count": 15,
      "outputs": []
    }
  ]
}